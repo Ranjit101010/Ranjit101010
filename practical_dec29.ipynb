{
 "cells": [
  {
   "cell_type": "code",
   "execution_count": 50,
   "metadata": {},
   "outputs": [
    {
     "data": {
      "text/plain": [
       "'D:\\\\GL'"
      ]
     },
     "execution_count": 50,
     "metadata": {},
     "output_type": "execute_result"
    }
   ],
   "source": [
    "\n",
    "pwd\n"
   ]
  },
  {
   "cell_type": "code",
   "execution_count": 55,
   "metadata": {},
   "outputs": [],
   "source": [
    "import os\n",
    "os.chdir('D:\\GL\\Dec28')"
   ]
  },
  {
   "cell_type": "code",
   "execution_count": 57,
   "metadata": {},
   "outputs": [
    {
     "ename": "NameError",
     "evalue": "name 'chdir' is not defined",
     "output_type": "error",
     "traceback": [
      "\u001b[1;31m---------------------------------------------------------------------------\u001b[0m",
      "\u001b[1;31mNameError\u001b[0m                                 Traceback (most recent call last)",
      "\u001b[1;32m<ipython-input-57-301e5cf07573>\u001b[0m in \u001b[0;36m<module>\u001b[1;34m\u001b[0m\n\u001b[1;32m----> 1\u001b[1;33m \u001b[0mhelp\u001b[0m\u001b[1;33m(\u001b[0m\u001b[0mchdir\u001b[0m\u001b[1;33m)\u001b[0m\u001b[1;33m\u001b[0m\u001b[1;33m\u001b[0m\u001b[0m\n\u001b[0m",
      "\u001b[1;31mNameError\u001b[0m: name 'chdir' is not defined"
     ]
    }
   ],
   "source": []
  },
  {
   "cell_type": "code",
   "execution_count": 56,
   "metadata": {},
   "outputs": [
    {
     "data": {
      "text/plain": [
       "'D:\\\\GL\\\\Dec28'"
      ]
     },
     "execution_count": 56,
     "metadata": {},
     "output_type": "execute_result"
    }
   ],
   "source": [
    "pwd"
   ]
  },
  {
   "cell_type": "code",
   "execution_count": 81,
   "metadata": {},
   "outputs": [],
   "source": [
    "import pandas as pd\n"
   ]
  },
  {
   "cell_type": "code",
   "execution_count": 95,
   "metadata": {},
   "outputs": [],
   "source": [
    "data=pd.read_csv('D:\\GL\\Dec28\\data.csv')"
   ]
  },
  {
   "cell_type": "code",
   "execution_count": 98,
   "metadata": {},
   "outputs": [
    {
     "data": {
      "text/html": [
       "<div>\n",
       "<style scoped>\n",
       "    .dataframe tbody tr th:only-of-type {\n",
       "        vertical-align: middle;\n",
       "    }\n",
       "\n",
       "    .dataframe tbody tr th {\n",
       "        vertical-align: top;\n",
       "    }\n",
       "\n",
       "    .dataframe thead th {\n",
       "        text-align: right;\n",
       "    }\n",
       "</style>\n",
       "<table border=\"1\" class=\"dataframe\">\n",
       "  <thead>\n",
       "    <tr style=\"text-align: right;\">\n",
       "      <th></th>\n",
       "      <th>Code</th>\n",
       "      <th>COUNTRY</th>\n",
       "      <th>POP</th>\n",
       "      <th>AREA</th>\n",
       "      <th>GDP</th>\n",
       "      <th>CONT</th>\n",
       "      <th>IND_DAY</th>\n",
       "    </tr>\n",
       "  </thead>\n",
       "  <tbody>\n",
       "    <tr>\n",
       "      <th>0</th>\n",
       "      <td>CHN</td>\n",
       "      <td>China</td>\n",
       "      <td>1398.72</td>\n",
       "      <td>9596.96</td>\n",
       "      <td>12234.78</td>\n",
       "      <td>Asia</td>\n",
       "      <td>NaN</td>\n",
       "    </tr>\n",
       "    <tr>\n",
       "      <th>1</th>\n",
       "      <td>IND</td>\n",
       "      <td>India</td>\n",
       "      <td>1351.16</td>\n",
       "      <td>3287.26</td>\n",
       "      <td>2575.67</td>\n",
       "      <td>Asia</td>\n",
       "      <td>15-08-1947</td>\n",
       "    </tr>\n",
       "    <tr>\n",
       "      <th>2</th>\n",
       "      <td>USA</td>\n",
       "      <td>US</td>\n",
       "      <td>329.74</td>\n",
       "      <td>9833.52</td>\n",
       "      <td>19485.39</td>\n",
       "      <td>N.America</td>\n",
       "      <td>1776-07-04</td>\n",
       "    </tr>\n",
       "    <tr>\n",
       "      <th>3</th>\n",
       "      <td>IDN</td>\n",
       "      <td>Indonesia</td>\n",
       "      <td>268.07</td>\n",
       "      <td>1910.93</td>\n",
       "      <td>1015.54</td>\n",
       "      <td>Asia</td>\n",
       "      <td>17-08-1945</td>\n",
       "    </tr>\n",
       "    <tr>\n",
       "      <th>4</th>\n",
       "      <td>BRA</td>\n",
       "      <td>Brazil</td>\n",
       "      <td>210.32</td>\n",
       "      <td>8515.77</td>\n",
       "      <td>2055.51</td>\n",
       "      <td>S.America</td>\n",
       "      <td>1822-09-07</td>\n",
       "    </tr>\n",
       "    <tr>\n",
       "      <th>5</th>\n",
       "      <td>PAK</td>\n",
       "      <td>Pakistan</td>\n",
       "      <td>205.71</td>\n",
       "      <td>881.91</td>\n",
       "      <td>302.14</td>\n",
       "      <td>Asia</td>\n",
       "      <td>14-08-1947</td>\n",
       "    </tr>\n",
       "    <tr>\n",
       "      <th>6</th>\n",
       "      <td>NGA</td>\n",
       "      <td>Nigeria</td>\n",
       "      <td>200.96</td>\n",
       "      <td>923.77</td>\n",
       "      <td>375.77</td>\n",
       "      <td>Africa</td>\n",
       "      <td>01-10-1960</td>\n",
       "    </tr>\n",
       "    <tr>\n",
       "      <th>7</th>\n",
       "      <td>BGD</td>\n",
       "      <td>Bangladesh</td>\n",
       "      <td>167.09</td>\n",
       "      <td>147.57</td>\n",
       "      <td>245.63</td>\n",
       "      <td>Asia</td>\n",
       "      <td>26-03-1971</td>\n",
       "    </tr>\n",
       "    <tr>\n",
       "      <th>8</th>\n",
       "      <td>RUS</td>\n",
       "      <td>Russia</td>\n",
       "      <td>146.79</td>\n",
       "      <td>17098.25</td>\n",
       "      <td>1530.75</td>\n",
       "      <td>NaN</td>\n",
       "      <td>12-06-1992</td>\n",
       "    </tr>\n",
       "    <tr>\n",
       "      <th>9</th>\n",
       "      <td>MEX</td>\n",
       "      <td>Mexico</td>\n",
       "      <td>126.58</td>\n",
       "      <td>1964.38</td>\n",
       "      <td>1158.23</td>\n",
       "      <td>N.America</td>\n",
       "      <td>1810-09-16</td>\n",
       "    </tr>\n",
       "    <tr>\n",
       "      <th>10</th>\n",
       "      <td>JPN</td>\n",
       "      <td>Japan</td>\n",
       "      <td>126.22</td>\n",
       "      <td>377.97</td>\n",
       "      <td>4872.42</td>\n",
       "      <td>Asia</td>\n",
       "      <td>NaN</td>\n",
       "    </tr>\n",
       "    <tr>\n",
       "      <th>11</th>\n",
       "      <td>NaN</td>\n",
       "      <td>NaN</td>\n",
       "      <td>NaN</td>\n",
       "      <td>NaN</td>\n",
       "      <td>NaN</td>\n",
       "      <td>NaN</td>\n",
       "      <td>NaN</td>\n",
       "    </tr>\n",
       "    <tr>\n",
       "      <th>12</th>\n",
       "      <td>FRA</td>\n",
       "      <td>France</td>\n",
       "      <td>67.02</td>\n",
       "      <td>640.68</td>\n",
       "      <td>2582.49</td>\n",
       "      <td>Europe</td>\n",
       "      <td>1789-07-14</td>\n",
       "    </tr>\n",
       "    <tr>\n",
       "      <th>13</th>\n",
       "      <td>GBR</td>\n",
       "      <td>UK</td>\n",
       "      <td>66.44</td>\n",
       "      <td>242.50</td>\n",
       "      <td>2631.23</td>\n",
       "      <td>Europe</td>\n",
       "      <td>NaN</td>\n",
       "    </tr>\n",
       "    <tr>\n",
       "      <th>14</th>\n",
       "      <td>ITA</td>\n",
       "      <td>Italy</td>\n",
       "      <td>60.36</td>\n",
       "      <td>301.34</td>\n",
       "      <td>1943.84</td>\n",
       "      <td>Europe</td>\n",
       "      <td>NaN</td>\n",
       "    </tr>\n",
       "    <tr>\n",
       "      <th>15</th>\n",
       "      <td>ARG</td>\n",
       "      <td>Argentina</td>\n",
       "      <td>44.94</td>\n",
       "      <td>2780.40</td>\n",
       "      <td>637.49</td>\n",
       "      <td>S.America</td>\n",
       "      <td>1816-07-09</td>\n",
       "    </tr>\n",
       "    <tr>\n",
       "      <th>16</th>\n",
       "      <td>DZA</td>\n",
       "      <td>Algeria</td>\n",
       "      <td>43.38</td>\n",
       "      <td>2381.74</td>\n",
       "      <td>167.56</td>\n",
       "      <td>Africa</td>\n",
       "      <td>05-07-1962</td>\n",
       "    </tr>\n",
       "    <tr>\n",
       "      <th>17</th>\n",
       "      <td>CAN</td>\n",
       "      <td>Canada</td>\n",
       "      <td>37.59</td>\n",
       "      <td>9984.67</td>\n",
       "      <td>1647.12</td>\n",
       "      <td>N.America</td>\n",
       "      <td>1867-07-01</td>\n",
       "    </tr>\n",
       "    <tr>\n",
       "      <th>18</th>\n",
       "      <td>AUS</td>\n",
       "      <td>Australia</td>\n",
       "      <td>25.47</td>\n",
       "      <td>7692.02</td>\n",
       "      <td>1408.68</td>\n",
       "      <td>Oceania</td>\n",
       "      <td>NaN</td>\n",
       "    </tr>\n",
       "    <tr>\n",
       "      <th>19</th>\n",
       "      <td>KAZ</td>\n",
       "      <td>Kazakhstan</td>\n",
       "      <td>18.53</td>\n",
       "      <td>2724.90</td>\n",
       "      <td>159.41</td>\n",
       "      <td>Asia</td>\n",
       "      <td>16-12-1991</td>\n",
       "    </tr>\n",
       "  </tbody>\n",
       "</table>\n",
       "</div>"
      ],
      "text/plain": [
       "   Code     COUNTRY      POP      AREA       GDP       CONT     IND_DAY\n",
       "0   CHN       China  1398.72   9596.96  12234.78       Asia         NaN\n",
       "1   IND       India  1351.16   3287.26   2575.67       Asia  15-08-1947\n",
       "2   USA          US   329.74   9833.52  19485.39  N.America  1776-07-04\n",
       "3   IDN   Indonesia   268.07   1910.93   1015.54       Asia  17-08-1945\n",
       "4   BRA      Brazil   210.32   8515.77   2055.51  S.America  1822-09-07\n",
       "5   PAK    Pakistan   205.71    881.91    302.14       Asia  14-08-1947\n",
       "6   NGA     Nigeria   200.96    923.77    375.77     Africa  01-10-1960\n",
       "7   BGD  Bangladesh   167.09    147.57    245.63       Asia  26-03-1971\n",
       "8   RUS      Russia   146.79  17098.25   1530.75        NaN  12-06-1992\n",
       "9   MEX      Mexico   126.58   1964.38   1158.23  N.America  1810-09-16\n",
       "10  JPN       Japan   126.22    377.97   4872.42       Asia         NaN\n",
       "11  NaN         NaN      NaN       NaN       NaN        NaN         NaN\n",
       "12  FRA      France    67.02    640.68   2582.49     Europe  1789-07-14\n",
       "13  GBR          UK    66.44    242.50   2631.23     Europe         NaN\n",
       "14  ITA       Italy    60.36    301.34   1943.84     Europe         NaN\n",
       "15  ARG   Argentina    44.94   2780.40    637.49  S.America  1816-07-09\n",
       "16  DZA     Algeria    43.38   2381.74    167.56     Africa  05-07-1962\n",
       "17  CAN      Canada    37.59   9984.67   1647.12  N.America  1867-07-01\n",
       "18  AUS   Australia    25.47   7692.02   1408.68    Oceania         NaN\n",
       "19  KAZ  Kazakhstan    18.53   2724.90    159.41       Asia  16-12-1991"
      ]
     },
     "execution_count": 98,
     "metadata": {},
     "output_type": "execute_result"
    }
   ],
   "source": [
    "data"
   ]
  },
  {
   "cell_type": "code",
   "execution_count": 97,
   "metadata": {},
   "outputs": [
    {
     "name": "stdout",
     "output_type": "stream",
     "text": [
      "<class 'pandas.core.frame.DataFrame'>\n",
      "RangeIndex: 20 entries, 0 to 19\n",
      "Data columns (total 7 columns):\n",
      " #   Column   Non-Null Count  Dtype  \n",
      "---  ------   --------------  -----  \n",
      " 0   Code     19 non-null     object \n",
      " 1   COUNTRY  19 non-null     object \n",
      " 2   POP      19 non-null     float64\n",
      " 3   AREA     19 non-null     float64\n",
      " 4   GDP      19 non-null     float64\n",
      " 5   CONT     18 non-null     object \n",
      " 6   IND_DAY  14 non-null     object \n",
      "dtypes: float64(3), object(4)\n",
      "memory usage: 1.2+ KB\n"
     ]
    }
   ],
   "source": [
    "data.info()"
   ]
  },
  {
   "cell_type": "code",
   "execution_count": 99,
   "metadata": {},
   "outputs": [
    {
     "data": {
      "text/html": [
       "<div>\n",
       "<style scoped>\n",
       "    .dataframe tbody tr th:only-of-type {\n",
       "        vertical-align: middle;\n",
       "    }\n",
       "\n",
       "    .dataframe tbody tr th {\n",
       "        vertical-align: top;\n",
       "    }\n",
       "\n",
       "    .dataframe thead th {\n",
       "        text-align: right;\n",
       "    }\n",
       "</style>\n",
       "<table border=\"1\" class=\"dataframe\">\n",
       "  <thead>\n",
       "    <tr style=\"text-align: right;\">\n",
       "      <th></th>\n",
       "      <th>POP</th>\n",
       "      <th>AREA</th>\n",
       "      <th>GDP</th>\n",
       "    </tr>\n",
       "  </thead>\n",
       "  <tbody>\n",
       "    <tr>\n",
       "      <th>count</th>\n",
       "      <td>19.000000</td>\n",
       "      <td>19.000000</td>\n",
       "      <td>19.000000</td>\n",
       "    </tr>\n",
       "    <tr>\n",
       "      <th>mean</th>\n",
       "      <td>257.636316</td>\n",
       "      <td>4278.238947</td>\n",
       "      <td>3001.560526</td>\n",
       "    </tr>\n",
       "    <tr>\n",
       "      <th>std</th>\n",
       "      <td>403.367782</td>\n",
       "      <td>4750.827773</td>\n",
       "      <td>4832.351839</td>\n",
       "    </tr>\n",
       "    <tr>\n",
       "      <th>min</th>\n",
       "      <td>18.530000</td>\n",
       "      <td>147.570000</td>\n",
       "      <td>159.410000</td>\n",
       "    </tr>\n",
       "    <tr>\n",
       "      <th>25%</th>\n",
       "      <td>52.650000</td>\n",
       "      <td>761.295000</td>\n",
       "      <td>506.630000</td>\n",
       "    </tr>\n",
       "    <tr>\n",
       "      <th>50%</th>\n",
       "      <td>126.580000</td>\n",
       "      <td>2381.740000</td>\n",
       "      <td>1530.750000</td>\n",
       "    </tr>\n",
       "    <tr>\n",
       "      <th>75%</th>\n",
       "      <td>208.015000</td>\n",
       "      <td>8103.895000</td>\n",
       "      <td>2579.080000</td>\n",
       "    </tr>\n",
       "    <tr>\n",
       "      <th>max</th>\n",
       "      <td>1398.720000</td>\n",
       "      <td>17098.250000</td>\n",
       "      <td>19485.390000</td>\n",
       "    </tr>\n",
       "  </tbody>\n",
       "</table>\n",
       "</div>"
      ],
      "text/plain": [
       "               POP          AREA           GDP\n",
       "count    19.000000     19.000000     19.000000\n",
       "mean    257.636316   4278.238947   3001.560526\n",
       "std     403.367782   4750.827773   4832.351839\n",
       "min      18.530000    147.570000    159.410000\n",
       "25%      52.650000    761.295000    506.630000\n",
       "50%     126.580000   2381.740000   1530.750000\n",
       "75%     208.015000   8103.895000   2579.080000\n",
       "max    1398.720000  17098.250000  19485.390000"
      ]
     },
     "execution_count": 99,
     "metadata": {},
     "output_type": "execute_result"
    }
   ],
   "source": [
    "data.describe()"
   ]
  },
  {
   "cell_type": "code",
   "execution_count": 101,
   "metadata": {},
   "outputs": [
    {
     "data": {
      "text/plain": [
       "257.6363157894737"
      ]
     },
     "execution_count": 101,
     "metadata": {},
     "output_type": "execute_result"
    }
   ],
   "source": [
    "data['POP'].mean()"
   ]
  },
  {
   "cell_type": "code",
   "execution_count": 112,
   "metadata": {},
   "outputs": [],
   "source": [
    "data['median']=data.groupby(['CONT'])['POP'].median()"
   ]
  },
  {
   "cell_type": "code",
   "execution_count": 115,
   "metadata": {},
   "outputs": [
    {
     "data": {
      "text/html": [
       "<div>\n",
       "<style scoped>\n",
       "    .dataframe tbody tr th:only-of-type {\n",
       "        vertical-align: middle;\n",
       "    }\n",
       "\n",
       "    .dataframe tbody tr th {\n",
       "        vertical-align: top;\n",
       "    }\n",
       "\n",
       "    .dataframe thead th {\n",
       "        text-align: right;\n",
       "    }\n",
       "</style>\n",
       "<table border=\"1\" class=\"dataframe\">\n",
       "  <thead>\n",
       "    <tr style=\"text-align: right;\">\n",
       "      <th></th>\n",
       "      <th>Code</th>\n",
       "      <th>COUNTRY</th>\n",
       "      <th>POP</th>\n",
       "      <th>AREA</th>\n",
       "      <th>GDP</th>\n",
       "      <th>CONT</th>\n",
       "      <th>IND_DAY</th>\n",
       "      <th>median</th>\n",
       "    </tr>\n",
       "  </thead>\n",
       "  <tbody>\n",
       "    <tr>\n",
       "      <th>0</th>\n",
       "      <td>CHN</td>\n",
       "      <td>China</td>\n",
       "      <td>1398.72</td>\n",
       "      <td>9596.96</td>\n",
       "      <td>12234.78</td>\n",
       "      <td>Asia</td>\n",
       "      <td>NaN</td>\n",
       "      <td>NaN</td>\n",
       "    </tr>\n",
       "    <tr>\n",
       "      <th>1</th>\n",
       "      <td>IND</td>\n",
       "      <td>India</td>\n",
       "      <td>1351.16</td>\n",
       "      <td>3287.26</td>\n",
       "      <td>2575.67</td>\n",
       "      <td>Asia</td>\n",
       "      <td>15-08-1947</td>\n",
       "      <td>NaN</td>\n",
       "    </tr>\n",
       "    <tr>\n",
       "      <th>2</th>\n",
       "      <td>USA</td>\n",
       "      <td>US</td>\n",
       "      <td>329.74</td>\n",
       "      <td>9833.52</td>\n",
       "      <td>19485.39</td>\n",
       "      <td>N.America</td>\n",
       "      <td>1776-07-04</td>\n",
       "      <td>NaN</td>\n",
       "    </tr>\n",
       "    <tr>\n",
       "      <th>3</th>\n",
       "      <td>IDN</td>\n",
       "      <td>Indonesia</td>\n",
       "      <td>268.07</td>\n",
       "      <td>1910.93</td>\n",
       "      <td>1015.54</td>\n",
       "      <td>Asia</td>\n",
       "      <td>17-08-1945</td>\n",
       "      <td>NaN</td>\n",
       "    </tr>\n",
       "    <tr>\n",
       "      <th>4</th>\n",
       "      <td>BRA</td>\n",
       "      <td>Brazil</td>\n",
       "      <td>210.32</td>\n",
       "      <td>8515.77</td>\n",
       "      <td>2055.51</td>\n",
       "      <td>S.America</td>\n",
       "      <td>1822-09-07</td>\n",
       "      <td>NaN</td>\n",
       "    </tr>\n",
       "    <tr>\n",
       "      <th>5</th>\n",
       "      <td>PAK</td>\n",
       "      <td>Pakistan</td>\n",
       "      <td>205.71</td>\n",
       "      <td>881.91</td>\n",
       "      <td>302.14</td>\n",
       "      <td>Asia</td>\n",
       "      <td>14-08-1947</td>\n",
       "      <td>NaN</td>\n",
       "    </tr>\n",
       "    <tr>\n",
       "      <th>6</th>\n",
       "      <td>NGA</td>\n",
       "      <td>Nigeria</td>\n",
       "      <td>200.96</td>\n",
       "      <td>923.77</td>\n",
       "      <td>375.77</td>\n",
       "      <td>Africa</td>\n",
       "      <td>01-10-1960</td>\n",
       "      <td>NaN</td>\n",
       "    </tr>\n",
       "    <tr>\n",
       "      <th>7</th>\n",
       "      <td>BGD</td>\n",
       "      <td>Bangladesh</td>\n",
       "      <td>167.09</td>\n",
       "      <td>147.57</td>\n",
       "      <td>245.63</td>\n",
       "      <td>Asia</td>\n",
       "      <td>26-03-1971</td>\n",
       "      <td>NaN</td>\n",
       "    </tr>\n",
       "    <tr>\n",
       "      <th>8</th>\n",
       "      <td>RUS</td>\n",
       "      <td>Russia</td>\n",
       "      <td>146.79</td>\n",
       "      <td>17098.25</td>\n",
       "      <td>1530.75</td>\n",
       "      <td>NaN</td>\n",
       "      <td>12-06-1992</td>\n",
       "      <td>NaN</td>\n",
       "    </tr>\n",
       "    <tr>\n",
       "      <th>9</th>\n",
       "      <td>MEX</td>\n",
       "      <td>Mexico</td>\n",
       "      <td>126.58</td>\n",
       "      <td>1964.38</td>\n",
       "      <td>1158.23</td>\n",
       "      <td>N.America</td>\n",
       "      <td>1810-09-16</td>\n",
       "      <td>NaN</td>\n",
       "    </tr>\n",
       "    <tr>\n",
       "      <th>10</th>\n",
       "      <td>JPN</td>\n",
       "      <td>Japan</td>\n",
       "      <td>126.22</td>\n",
       "      <td>377.97</td>\n",
       "      <td>4872.42</td>\n",
       "      <td>Asia</td>\n",
       "      <td>NaN</td>\n",
       "      <td>NaN</td>\n",
       "    </tr>\n",
       "    <tr>\n",
       "      <th>11</th>\n",
       "      <td>NaN</td>\n",
       "      <td>NaN</td>\n",
       "      <td>NaN</td>\n",
       "      <td>NaN</td>\n",
       "      <td>NaN</td>\n",
       "      <td>NaN</td>\n",
       "      <td>NaN</td>\n",
       "      <td>NaN</td>\n",
       "    </tr>\n",
       "    <tr>\n",
       "      <th>12</th>\n",
       "      <td>FRA</td>\n",
       "      <td>France</td>\n",
       "      <td>67.02</td>\n",
       "      <td>640.68</td>\n",
       "      <td>2582.49</td>\n",
       "      <td>Europe</td>\n",
       "      <td>1789-07-14</td>\n",
       "      <td>NaN</td>\n",
       "    </tr>\n",
       "    <tr>\n",
       "      <th>13</th>\n",
       "      <td>GBR</td>\n",
       "      <td>UK</td>\n",
       "      <td>66.44</td>\n",
       "      <td>242.50</td>\n",
       "      <td>2631.23</td>\n",
       "      <td>Europe</td>\n",
       "      <td>NaN</td>\n",
       "      <td>NaN</td>\n",
       "    </tr>\n",
       "    <tr>\n",
       "      <th>14</th>\n",
       "      <td>ITA</td>\n",
       "      <td>Italy</td>\n",
       "      <td>60.36</td>\n",
       "      <td>301.34</td>\n",
       "      <td>1943.84</td>\n",
       "      <td>Europe</td>\n",
       "      <td>NaN</td>\n",
       "      <td>NaN</td>\n",
       "    </tr>\n",
       "    <tr>\n",
       "      <th>15</th>\n",
       "      <td>ARG</td>\n",
       "      <td>Argentina</td>\n",
       "      <td>44.94</td>\n",
       "      <td>2780.40</td>\n",
       "      <td>637.49</td>\n",
       "      <td>S.America</td>\n",
       "      <td>1816-07-09</td>\n",
       "      <td>NaN</td>\n",
       "    </tr>\n",
       "    <tr>\n",
       "      <th>16</th>\n",
       "      <td>DZA</td>\n",
       "      <td>Algeria</td>\n",
       "      <td>43.38</td>\n",
       "      <td>2381.74</td>\n",
       "      <td>167.56</td>\n",
       "      <td>Africa</td>\n",
       "      <td>05-07-1962</td>\n",
       "      <td>NaN</td>\n",
       "    </tr>\n",
       "    <tr>\n",
       "      <th>17</th>\n",
       "      <td>CAN</td>\n",
       "      <td>Canada</td>\n",
       "      <td>37.59</td>\n",
       "      <td>9984.67</td>\n",
       "      <td>1647.12</td>\n",
       "      <td>N.America</td>\n",
       "      <td>1867-07-01</td>\n",
       "      <td>NaN</td>\n",
       "    </tr>\n",
       "    <tr>\n",
       "      <th>18</th>\n",
       "      <td>AUS</td>\n",
       "      <td>Australia</td>\n",
       "      <td>25.47</td>\n",
       "      <td>7692.02</td>\n",
       "      <td>1408.68</td>\n",
       "      <td>Oceania</td>\n",
       "      <td>NaN</td>\n",
       "      <td>NaN</td>\n",
       "    </tr>\n",
       "    <tr>\n",
       "      <th>19</th>\n",
       "      <td>KAZ</td>\n",
       "      <td>Kazakhstan</td>\n",
       "      <td>18.53</td>\n",
       "      <td>2724.90</td>\n",
       "      <td>159.41</td>\n",
       "      <td>Asia</td>\n",
       "      <td>16-12-1991</td>\n",
       "      <td>NaN</td>\n",
       "    </tr>\n",
       "  </tbody>\n",
       "</table>\n",
       "</div>"
      ],
      "text/plain": [
       "   Code     COUNTRY      POP      AREA       GDP       CONT     IND_DAY  \\\n",
       "0   CHN       China  1398.72   9596.96  12234.78       Asia         NaN   \n",
       "1   IND       India  1351.16   3287.26   2575.67       Asia  15-08-1947   \n",
       "2   USA          US   329.74   9833.52  19485.39  N.America  1776-07-04   \n",
       "3   IDN   Indonesia   268.07   1910.93   1015.54       Asia  17-08-1945   \n",
       "4   BRA      Brazil   210.32   8515.77   2055.51  S.America  1822-09-07   \n",
       "5   PAK    Pakistan   205.71    881.91    302.14       Asia  14-08-1947   \n",
       "6   NGA     Nigeria   200.96    923.77    375.77     Africa  01-10-1960   \n",
       "7   BGD  Bangladesh   167.09    147.57    245.63       Asia  26-03-1971   \n",
       "8   RUS      Russia   146.79  17098.25   1530.75        NaN  12-06-1992   \n",
       "9   MEX      Mexico   126.58   1964.38   1158.23  N.America  1810-09-16   \n",
       "10  JPN       Japan   126.22    377.97   4872.42       Asia         NaN   \n",
       "11  NaN         NaN      NaN       NaN       NaN        NaN         NaN   \n",
       "12  FRA      France    67.02    640.68   2582.49     Europe  1789-07-14   \n",
       "13  GBR          UK    66.44    242.50   2631.23     Europe         NaN   \n",
       "14  ITA       Italy    60.36    301.34   1943.84     Europe         NaN   \n",
       "15  ARG   Argentina    44.94   2780.40    637.49  S.America  1816-07-09   \n",
       "16  DZA     Algeria    43.38   2381.74    167.56     Africa  05-07-1962   \n",
       "17  CAN      Canada    37.59   9984.67   1647.12  N.America  1867-07-01   \n",
       "18  AUS   Australia    25.47   7692.02   1408.68    Oceania         NaN   \n",
       "19  KAZ  Kazakhstan    18.53   2724.90    159.41       Asia  16-12-1991   \n",
       "\n",
       "    median  \n",
       "0      NaN  \n",
       "1      NaN  \n",
       "2      NaN  \n",
       "3      NaN  \n",
       "4      NaN  \n",
       "5      NaN  \n",
       "6      NaN  \n",
       "7      NaN  \n",
       "8      NaN  \n",
       "9      NaN  \n",
       "10     NaN  \n",
       "11     NaN  \n",
       "12     NaN  \n",
       "13     NaN  \n",
       "14     NaN  \n",
       "15     NaN  \n",
       "16     NaN  \n",
       "17     NaN  \n",
       "18     NaN  \n",
       "19     NaN  "
      ]
     },
     "execution_count": 115,
     "metadata": {},
     "output_type": "execute_result"
    }
   ],
   "source": [
    "data"
   ]
  },
  {
   "cell_type": "code",
   "execution_count": 70,
   "metadata": {},
   "outputs": [],
   "source": [
    "data=pd.read_csv('D:\\GL\\Dec28\\data - Copy.csv',sep='&')"
   ]
  },
  {
   "cell_type": "code",
   "execution_count": 71,
   "metadata": {
    "collapsed": true,
    "jupyter": {
     "outputs_hidden": true
    }
   },
   "outputs": [
    {
     "name": "stdout",
     "output_type": "stream",
     "text": [
      "<class 'pandas.core.frame.DataFrame'>\n",
      "RangeIndex: 20 entries, 0 to 19\n",
      "Data columns (total 7 columns):\n",
      " #   Column   Non-Null Count  Dtype  \n",
      "---  ------   --------------  -----  \n",
      " 0   Code     20 non-null     object \n",
      " 1   COUNTRY  20 non-null     object \n",
      " 2   POP      20 non-null     float64\n",
      " 3   AREA     20 non-null     float64\n",
      " 4   GDP      20 non-null     float64\n",
      " 5   CONT     19 non-null     object \n",
      " 6   IND_DAY  14 non-null     object \n",
      "dtypes: float64(3), object(4)\n",
      "memory usage: 1.2+ KB\n"
     ]
    }
   ],
   "source": [
    "data.info()"
   ]
  },
  {
   "cell_type": "code",
   "execution_count": 25,
   "metadata": {},
   "outputs": [],
   "source": [
    "data=pd.read_csv('D:\\GL\\Dec28\\data - Copy.csv',sep='&',header =None)"
   ]
  },
  {
   "cell_type": "code",
   "execution_count": 26,
   "metadata": {
    "collapsed": true,
    "jupyter": {
     "outputs_hidden": true
    }
   },
   "outputs": [
    {
     "name": "stdout",
     "output_type": "stream",
     "text": [
      "<class 'pandas.core.frame.DataFrame'>\n",
      "RangeIndex: 21 entries, 0 to 20\n",
      "Data columns (total 7 columns):\n",
      " #   Column  Non-Null Count  Dtype \n",
      "---  ------  --------------  ----- \n",
      " 0   0       21 non-null     object\n",
      " 1   1       21 non-null     object\n",
      " 2   2       21 non-null     object\n",
      " 3   3       21 non-null     object\n",
      " 4   4       21 non-null     object\n",
      " 5   5       20 non-null     object\n",
      " 6   6       15 non-null     object\n",
      "dtypes: object(7)\n",
      "memory usage: 1.3+ KB\n"
     ]
    }
   ],
   "source": [
    "data.info()"
   ]
  },
  {
   "cell_type": "code",
   "execution_count": 30,
   "metadata": {},
   "outputs": [],
   "source": [
    "data=pd.read_csv('D:\\GL\\Dec28\\data - Copy.csv',sep='&',header =None,names=['Code','COUNTRY'])"
   ]
  },
  {
   "cell_type": "code",
   "execution_count": 31,
   "metadata": {},
   "outputs": [
    {
     "name": "stdout",
     "output_type": "stream",
     "text": [
      "<class 'pandas.core.frame.DataFrame'>\n",
      "MultiIndex: 21 entries, ('Code', 'COUNTRY', 'POP', 'AREA', 'GDP') to ('KAZ', 'Kazakhstan', '18.53', '2724.9', '159.41')\n",
      "Data columns (total 2 columns):\n",
      " #   Column   Non-Null Count  Dtype \n",
      "---  ------   --------------  ----- \n",
      " 0   Code     20 non-null     object\n",
      " 1   COUNTRY  15 non-null     object\n",
      "dtypes: object(2)\n",
      "memory usage: 1.3+ KB\n"
     ]
    }
   ],
   "source": [
    "data.info()"
   ]
  },
  {
   "cell_type": "code",
   "execution_count": 33,
   "metadata": {
    "collapsed": true,
    "jupyter": {
     "outputs_hidden": true
    }
   },
   "outputs": [
    {
     "data": {
      "text/html": [
       "<div>\n",
       "<style scoped>\n",
       "    .dataframe tbody tr th:only-of-type {\n",
       "        vertical-align: middle;\n",
       "    }\n",
       "\n",
       "    .dataframe tbody tr th {\n",
       "        vertical-align: top;\n",
       "    }\n",
       "\n",
       "    .dataframe thead th {\n",
       "        text-align: right;\n",
       "    }\n",
       "</style>\n",
       "<table border=\"1\" class=\"dataframe\">\n",
       "  <thead>\n",
       "    <tr style=\"text-align: right;\">\n",
       "      <th></th>\n",
       "      <th></th>\n",
       "      <th></th>\n",
       "      <th></th>\n",
       "      <th></th>\n",
       "      <th>Code</th>\n",
       "      <th>COUNTRY</th>\n",
       "    </tr>\n",
       "  </thead>\n",
       "  <tbody>\n",
       "    <tr>\n",
       "      <th>Code</th>\n",
       "      <th>COUNTRY</th>\n",
       "      <th>POP</th>\n",
       "      <th>AREA</th>\n",
       "      <th>GDP</th>\n",
       "      <td>CONT</td>\n",
       "      <td>IND_DAY</td>\n",
       "    </tr>\n",
       "    <tr>\n",
       "      <th>CHN</th>\n",
       "      <th>China</th>\n",
       "      <th>1398.72</th>\n",
       "      <th>9596.96</th>\n",
       "      <th>12234.78</th>\n",
       "      <td>Asia</td>\n",
       "      <td>NaN</td>\n",
       "    </tr>\n",
       "    <tr>\n",
       "      <th>IND</th>\n",
       "      <th>India</th>\n",
       "      <th>1351.16</th>\n",
       "      <th>3287.26</th>\n",
       "      <th>2575.67</th>\n",
       "      <td>Asia</td>\n",
       "      <td>17394</td>\n",
       "    </tr>\n",
       "    <tr>\n",
       "      <th>USA</th>\n",
       "      <th>US</th>\n",
       "      <th>329.74</th>\n",
       "      <th>9833.52</th>\n",
       "      <th>19485.39</th>\n",
       "      <td>N.America</td>\n",
       "      <td>1776-07-04</td>\n",
       "    </tr>\n",
       "    <tr>\n",
       "      <th>IDN</th>\n",
       "      <th>Indonesia</th>\n",
       "      <th>268.07</th>\n",
       "      <th>1910.93</th>\n",
       "      <th>1015.54</th>\n",
       "      <td>Asia</td>\n",
       "      <td>16666</td>\n",
       "    </tr>\n",
       "  </tbody>\n",
       "</table>\n",
       "</div>"
      ],
      "text/plain": [
       "                                              Code     COUNTRY\n",
       "Code COUNTRY   POP     AREA    GDP            CONT     IND_DAY\n",
       "CHN  China     1398.72 9596.96 12234.78       Asia         NaN\n",
       "IND  India     1351.16 3287.26 2575.67        Asia       17394\n",
       "USA  US        329.74  9833.52 19485.39  N.America  1776-07-04\n",
       "IDN  Indonesia 268.07  1910.93 1015.54        Asia       16666"
      ]
     },
     "execution_count": 33,
     "metadata": {},
     "output_type": "execute_result"
    }
   ],
   "source": [
    "data.head()"
   ]
  },
  {
   "cell_type": "code",
   "execution_count": 36,
   "metadata": {
    "collapsed": true,
    "jupyter": {
     "outputs_hidden": true
    }
   },
   "outputs": [
    {
     "data": {
      "text/html": [
       "<div>\n",
       "<style scoped>\n",
       "    .dataframe tbody tr th:only-of-type {\n",
       "        vertical-align: middle;\n",
       "    }\n",
       "\n",
       "    .dataframe tbody tr th {\n",
       "        vertical-align: top;\n",
       "    }\n",
       "\n",
       "    .dataframe thead th {\n",
       "        text-align: right;\n",
       "    }\n",
       "</style>\n",
       "<table border=\"1\" class=\"dataframe\">\n",
       "  <thead>\n",
       "    <tr style=\"text-align: right;\">\n",
       "      <th></th>\n",
       "      <th>BRA</th>\n",
       "      <th>Brazil</th>\n",
       "      <th>210.32</th>\n",
       "      <th>8515.77</th>\n",
       "      <th>2055.51</th>\n",
       "      <th>S.America</th>\n",
       "      <th>1822-09-07</th>\n",
       "    </tr>\n",
       "  </thead>\n",
       "  <tbody>\n",
       "    <tr>\n",
       "      <th>0</th>\n",
       "      <td>PAK</td>\n",
       "      <td>Pakistan</td>\n",
       "      <td>205.71</td>\n",
       "      <td>881.91</td>\n",
       "      <td>302.14</td>\n",
       "      <td>Asia</td>\n",
       "      <td>14-08-1947</td>\n",
       "    </tr>\n",
       "    <tr>\n",
       "      <th>1</th>\n",
       "      <td>NGA</td>\n",
       "      <td>Nigeria</td>\n",
       "      <td>200.96</td>\n",
       "      <td>923.77</td>\n",
       "      <td>375.77</td>\n",
       "      <td>Africa</td>\n",
       "      <td>01-10-1960</td>\n",
       "    </tr>\n",
       "    <tr>\n",
       "      <th>2</th>\n",
       "      <td>BGD</td>\n",
       "      <td>Bangladesh</td>\n",
       "      <td>167.09</td>\n",
       "      <td>147.57</td>\n",
       "      <td>245.63</td>\n",
       "      <td>Asia</td>\n",
       "      <td>26-03-1971</td>\n",
       "    </tr>\n",
       "    <tr>\n",
       "      <th>3</th>\n",
       "      <td>RUS</td>\n",
       "      <td>Russia</td>\n",
       "      <td>146.79</td>\n",
       "      <td>17098.25</td>\n",
       "      <td>1530.75</td>\n",
       "      <td>NaN</td>\n",
       "      <td>12-06-1992</td>\n",
       "    </tr>\n",
       "    <tr>\n",
       "      <th>4</th>\n",
       "      <td>MEX</td>\n",
       "      <td>Mexico</td>\n",
       "      <td>126.58</td>\n",
       "      <td>1964.38</td>\n",
       "      <td>1158.23</td>\n",
       "      <td>N.America</td>\n",
       "      <td>1810-09-16</td>\n",
       "    </tr>\n",
       "    <tr>\n",
       "      <th>5</th>\n",
       "      <td>JPN</td>\n",
       "      <td>Japan</td>\n",
       "      <td>126.22</td>\n",
       "      <td>377.97</td>\n",
       "      <td>4872.42</td>\n",
       "      <td>Asia</td>\n",
       "      <td>NaN</td>\n",
       "    </tr>\n",
       "    <tr>\n",
       "      <th>6</th>\n",
       "      <td>DEU</td>\n",
       "      <td>Germany</td>\n",
       "      <td>83.02</td>\n",
       "      <td>357.11</td>\n",
       "      <td>3693.20</td>\n",
       "      <td>Europe</td>\n",
       "      <td>NaN</td>\n",
       "    </tr>\n",
       "    <tr>\n",
       "      <th>7</th>\n",
       "      <td>FRA</td>\n",
       "      <td>France</td>\n",
       "      <td>67.02</td>\n",
       "      <td>640.68</td>\n",
       "      <td>2582.49</td>\n",
       "      <td>Europe</td>\n",
       "      <td>1789-07-14</td>\n",
       "    </tr>\n",
       "    <tr>\n",
       "      <th>8</th>\n",
       "      <td>GBR</td>\n",
       "      <td>UK</td>\n",
       "      <td>66.44</td>\n",
       "      <td>242.50</td>\n",
       "      <td>2631.23</td>\n",
       "      <td>Europe</td>\n",
       "      <td>NaN</td>\n",
       "    </tr>\n",
       "    <tr>\n",
       "      <th>9</th>\n",
       "      <td>ITA</td>\n",
       "      <td>Italy</td>\n",
       "      <td>60.36</td>\n",
       "      <td>301.34</td>\n",
       "      <td>1943.84</td>\n",
       "      <td>Europe</td>\n",
       "      <td>NaN</td>\n",
       "    </tr>\n",
       "    <tr>\n",
       "      <th>10</th>\n",
       "      <td>ARG</td>\n",
       "      <td>Argentina</td>\n",
       "      <td>44.94</td>\n",
       "      <td>2780.40</td>\n",
       "      <td>637.49</td>\n",
       "      <td>S.America</td>\n",
       "      <td>1816-07-09</td>\n",
       "    </tr>\n",
       "    <tr>\n",
       "      <th>11</th>\n",
       "      <td>DZA</td>\n",
       "      <td>Algeria</td>\n",
       "      <td>43.38</td>\n",
       "      <td>2381.74</td>\n",
       "      <td>167.56</td>\n",
       "      <td>Africa</td>\n",
       "      <td>05-07-1962</td>\n",
       "    </tr>\n",
       "    <tr>\n",
       "      <th>12</th>\n",
       "      <td>CAN</td>\n",
       "      <td>Canada</td>\n",
       "      <td>37.59</td>\n",
       "      <td>9984.67</td>\n",
       "      <td>1647.12</td>\n",
       "      <td>N.America</td>\n",
       "      <td>1867-07-01</td>\n",
       "    </tr>\n",
       "    <tr>\n",
       "      <th>13</th>\n",
       "      <td>AUS</td>\n",
       "      <td>Australia</td>\n",
       "      <td>25.47</td>\n",
       "      <td>7692.02</td>\n",
       "      <td>1408.68</td>\n",
       "      <td>Oceania</td>\n",
       "      <td>NaN</td>\n",
       "    </tr>\n",
       "    <tr>\n",
       "      <th>14</th>\n",
       "      <td>KAZ</td>\n",
       "      <td>Kazakhstan</td>\n",
       "      <td>18.53</td>\n",
       "      <td>2724.90</td>\n",
       "      <td>159.41</td>\n",
       "      <td>Asia</td>\n",
       "      <td>16-12-1991</td>\n",
       "    </tr>\n",
       "  </tbody>\n",
       "</table>\n",
       "</div>"
      ],
      "text/plain": [
       "    BRA      Brazil  210.32   8515.77  2055.51  S.America  1822-09-07\n",
       "0   PAK    Pakistan  205.71    881.91   302.14       Asia  14-08-1947\n",
       "1   NGA     Nigeria  200.96    923.77   375.77     Africa  01-10-1960\n",
       "2   BGD  Bangladesh  167.09    147.57   245.63       Asia  26-03-1971\n",
       "3   RUS      Russia  146.79  17098.25  1530.75        NaN  12-06-1992\n",
       "4   MEX      Mexico  126.58   1964.38  1158.23  N.America  1810-09-16\n",
       "5   JPN       Japan  126.22    377.97  4872.42       Asia         NaN\n",
       "6   DEU     Germany   83.02    357.11  3693.20     Europe         NaN\n",
       "7   FRA      France   67.02    640.68  2582.49     Europe  1789-07-14\n",
       "8   GBR          UK   66.44    242.50  2631.23     Europe         NaN\n",
       "9   ITA       Italy   60.36    301.34  1943.84     Europe         NaN\n",
       "10  ARG   Argentina   44.94   2780.40   637.49  S.America  1816-07-09\n",
       "11  DZA     Algeria   43.38   2381.74   167.56     Africa  05-07-1962\n",
       "12  CAN      Canada   37.59   9984.67  1647.12  N.America  1867-07-01\n",
       "13  AUS   Australia   25.47   7692.02  1408.68    Oceania         NaN\n",
       "14  KAZ  Kazakhstan   18.53   2724.90   159.41       Asia  16-12-1991"
      ]
     },
     "execution_count": 36,
     "metadata": {},
     "output_type": "execute_result"
    }
   ],
   "source": [
    "import pandas as pd\n",
    "pd.read_csv('D:\\GL\\Dec28\\data.csv',skiprows=5)"
   ]
  },
  {
   "cell_type": "code",
   "execution_count": 37,
   "metadata": {
    "collapsed": true,
    "jupyter": {
     "outputs_hidden": true
    }
   },
   "outputs": [
    {
     "data": {
      "text/html": [
       "<div>\n",
       "<style scoped>\n",
       "    .dataframe tbody tr th:only-of-type {\n",
       "        vertical-align: middle;\n",
       "    }\n",
       "\n",
       "    .dataframe tbody tr th {\n",
       "        vertical-align: top;\n",
       "    }\n",
       "\n",
       "    .dataframe thead th {\n",
       "        text-align: right;\n",
       "    }\n",
       "</style>\n",
       "<table border=\"1\" class=\"dataframe\">\n",
       "  <thead>\n",
       "    <tr style=\"text-align: right;\">\n",
       "      <th></th>\n",
       "      <th>COUNTRY</th>\n",
       "      <th>POP</th>\n",
       "      <th>AREA</th>\n",
       "      <th>GDP</th>\n",
       "      <th>CONT</th>\n",
       "      <th>IND_DAY</th>\n",
       "    </tr>\n",
       "    <tr>\n",
       "      <th>Code</th>\n",
       "      <th></th>\n",
       "      <th></th>\n",
       "      <th></th>\n",
       "      <th></th>\n",
       "      <th></th>\n",
       "      <th></th>\n",
       "    </tr>\n",
       "  </thead>\n",
       "  <tbody>\n",
       "    <tr>\n",
       "      <th>CHN</th>\n",
       "      <td>China</td>\n",
       "      <td>1398.72</td>\n",
       "      <td>9596.96</td>\n",
       "      <td>12234.78</td>\n",
       "      <td>Asia</td>\n",
       "      <td>NaN</td>\n",
       "    </tr>\n",
       "    <tr>\n",
       "      <th>IND</th>\n",
       "      <td>India</td>\n",
       "      <td>1351.16</td>\n",
       "      <td>3287.26</td>\n",
       "      <td>2575.67</td>\n",
       "      <td>Asia</td>\n",
       "      <td>15-08-1947</td>\n",
       "    </tr>\n",
       "    <tr>\n",
       "      <th>USA</th>\n",
       "      <td>US</td>\n",
       "      <td>329.74</td>\n",
       "      <td>9833.52</td>\n",
       "      <td>19485.39</td>\n",
       "      <td>N.America</td>\n",
       "      <td>1776-07-04</td>\n",
       "    </tr>\n",
       "    <tr>\n",
       "      <th>IDN</th>\n",
       "      <td>Indonesia</td>\n",
       "      <td>268.07</td>\n",
       "      <td>1910.93</td>\n",
       "      <td>1015.54</td>\n",
       "      <td>Asia</td>\n",
       "      <td>17-08-1945</td>\n",
       "    </tr>\n",
       "    <tr>\n",
       "      <th>BRA</th>\n",
       "      <td>Brazil</td>\n",
       "      <td>210.32</td>\n",
       "      <td>8515.77</td>\n",
       "      <td>2055.51</td>\n",
       "      <td>S.America</td>\n",
       "      <td>1822-09-07</td>\n",
       "    </tr>\n",
       "    <tr>\n",
       "      <th>PAK</th>\n",
       "      <td>Pakistan</td>\n",
       "      <td>205.71</td>\n",
       "      <td>881.91</td>\n",
       "      <td>302.14</td>\n",
       "      <td>Asia</td>\n",
       "      <td>14-08-1947</td>\n",
       "    </tr>\n",
       "    <tr>\n",
       "      <th>NGA</th>\n",
       "      <td>Nigeria</td>\n",
       "      <td>200.96</td>\n",
       "      <td>923.77</td>\n",
       "      <td>375.77</td>\n",
       "      <td>Africa</td>\n",
       "      <td>01-10-1960</td>\n",
       "    </tr>\n",
       "    <tr>\n",
       "      <th>BGD</th>\n",
       "      <td>Bangladesh</td>\n",
       "      <td>167.09</td>\n",
       "      <td>147.57</td>\n",
       "      <td>245.63</td>\n",
       "      <td>Asia</td>\n",
       "      <td>26-03-1971</td>\n",
       "    </tr>\n",
       "    <tr>\n",
       "      <th>RUS</th>\n",
       "      <td>Russia</td>\n",
       "      <td>146.79</td>\n",
       "      <td>17098.25</td>\n",
       "      <td>1530.75</td>\n",
       "      <td>NaN</td>\n",
       "      <td>12-06-1992</td>\n",
       "    </tr>\n",
       "    <tr>\n",
       "      <th>MEX</th>\n",
       "      <td>Mexico</td>\n",
       "      <td>126.58</td>\n",
       "      <td>1964.38</td>\n",
       "      <td>1158.23</td>\n",
       "      <td>N.America</td>\n",
       "      <td>1810-09-16</td>\n",
       "    </tr>\n",
       "    <tr>\n",
       "      <th>JPN</th>\n",
       "      <td>Japan</td>\n",
       "      <td>126.22</td>\n",
       "      <td>377.97</td>\n",
       "      <td>4872.42</td>\n",
       "      <td>Asia</td>\n",
       "      <td>NaN</td>\n",
       "    </tr>\n",
       "    <tr>\n",
       "      <th>DEU</th>\n",
       "      <td>Germany</td>\n",
       "      <td>83.02</td>\n",
       "      <td>357.11</td>\n",
       "      <td>3693.20</td>\n",
       "      <td>Europe</td>\n",
       "      <td>NaN</td>\n",
       "    </tr>\n",
       "    <tr>\n",
       "      <th>FRA</th>\n",
       "      <td>France</td>\n",
       "      <td>67.02</td>\n",
       "      <td>640.68</td>\n",
       "      <td>2582.49</td>\n",
       "      <td>Europe</td>\n",
       "      <td>1789-07-14</td>\n",
       "    </tr>\n",
       "    <tr>\n",
       "      <th>GBR</th>\n",
       "      <td>UK</td>\n",
       "      <td>66.44</td>\n",
       "      <td>242.50</td>\n",
       "      <td>2631.23</td>\n",
       "      <td>Europe</td>\n",
       "      <td>NaN</td>\n",
       "    </tr>\n",
       "    <tr>\n",
       "      <th>ITA</th>\n",
       "      <td>Italy</td>\n",
       "      <td>60.36</td>\n",
       "      <td>301.34</td>\n",
       "      <td>1943.84</td>\n",
       "      <td>Europe</td>\n",
       "      <td>NaN</td>\n",
       "    </tr>\n",
       "    <tr>\n",
       "      <th>ARG</th>\n",
       "      <td>Argentina</td>\n",
       "      <td>44.94</td>\n",
       "      <td>2780.40</td>\n",
       "      <td>637.49</td>\n",
       "      <td>S.America</td>\n",
       "      <td>1816-07-09</td>\n",
       "    </tr>\n",
       "    <tr>\n",
       "      <th>DZA</th>\n",
       "      <td>Algeria</td>\n",
       "      <td>43.38</td>\n",
       "      <td>2381.74</td>\n",
       "      <td>167.56</td>\n",
       "      <td>Africa</td>\n",
       "      <td>05-07-1962</td>\n",
       "    </tr>\n",
       "    <tr>\n",
       "      <th>CAN</th>\n",
       "      <td>Canada</td>\n",
       "      <td>37.59</td>\n",
       "      <td>9984.67</td>\n",
       "      <td>1647.12</td>\n",
       "      <td>N.America</td>\n",
       "      <td>1867-07-01</td>\n",
       "    </tr>\n",
       "    <tr>\n",
       "      <th>AUS</th>\n",
       "      <td>Australia</td>\n",
       "      <td>25.47</td>\n",
       "      <td>7692.02</td>\n",
       "      <td>1408.68</td>\n",
       "      <td>Oceania</td>\n",
       "      <td>NaN</td>\n",
       "    </tr>\n",
       "    <tr>\n",
       "      <th>KAZ</th>\n",
       "      <td>Kazakhstan</td>\n",
       "      <td>18.53</td>\n",
       "      <td>2724.90</td>\n",
       "      <td>159.41</td>\n",
       "      <td>Asia</td>\n",
       "      <td>16-12-1991</td>\n",
       "    </tr>\n",
       "  </tbody>\n",
       "</table>\n",
       "</div>"
      ],
      "text/plain": [
       "         COUNTRY      POP      AREA       GDP       CONT     IND_DAY\n",
       "Code                                                                \n",
       "CHN        China  1398.72   9596.96  12234.78       Asia         NaN\n",
       "IND        India  1351.16   3287.26   2575.67       Asia  15-08-1947\n",
       "USA           US   329.74   9833.52  19485.39  N.America  1776-07-04\n",
       "IDN    Indonesia   268.07   1910.93   1015.54       Asia  17-08-1945\n",
       "BRA       Brazil   210.32   8515.77   2055.51  S.America  1822-09-07\n",
       "PAK     Pakistan   205.71    881.91    302.14       Asia  14-08-1947\n",
       "NGA      Nigeria   200.96    923.77    375.77     Africa  01-10-1960\n",
       "BGD   Bangladesh   167.09    147.57    245.63       Asia  26-03-1971\n",
       "RUS       Russia   146.79  17098.25   1530.75        NaN  12-06-1992\n",
       "MEX       Mexico   126.58   1964.38   1158.23  N.America  1810-09-16\n",
       "JPN        Japan   126.22    377.97   4872.42       Asia         NaN\n",
       "DEU      Germany    83.02    357.11   3693.20     Europe         NaN\n",
       "FRA       France    67.02    640.68   2582.49     Europe  1789-07-14\n",
       "GBR           UK    66.44    242.50   2631.23     Europe         NaN\n",
       "ITA        Italy    60.36    301.34   1943.84     Europe         NaN\n",
       "ARG    Argentina    44.94   2780.40    637.49  S.America  1816-07-09\n",
       "DZA      Algeria    43.38   2381.74    167.56     Africa  05-07-1962\n",
       "CAN       Canada    37.59   9984.67   1647.12  N.America  1867-07-01\n",
       "AUS    Australia    25.47   7692.02   1408.68    Oceania         NaN\n",
       "KAZ   Kazakhstan    18.53   2724.90    159.41       Asia  16-12-1991"
      ]
     },
     "execution_count": 37,
     "metadata": {},
     "output_type": "execute_result"
    }
   ],
   "source": [
    "import pandas as pd\n",
    "pd.read_csv('D:\\GL\\Dec28\\data.csv',index_col=0)"
   ]
  },
  {
   "cell_type": "code",
   "execution_count": 78,
   "metadata": {},
   "outputs": [],
   "source": [
    "import pandas as pd\n",
    "#data=pd.read_csv('D:\\GL\\Dec28\\data.csv',skip_blank_lines=True,na_filter=False)\n",
    "data=pd.read_csv('D:\\GL\\Dec28\\data.csv',na_filter=True,skip_blank_lines=True)"
   ]
  },
  {
   "cell_type": "code",
   "execution_count": 80,
   "metadata": {
    "collapsed": true,
    "jupyter": {
     "outputs_hidden": true
    }
   },
   "outputs": [
    {
     "data": {
      "text/html": [
       "<div>\n",
       "<style scoped>\n",
       "    .dataframe tbody tr th:only-of-type {\n",
       "        vertical-align: middle;\n",
       "    }\n",
       "\n",
       "    .dataframe tbody tr th {\n",
       "        vertical-align: top;\n",
       "    }\n",
       "\n",
       "    .dataframe thead th {\n",
       "        text-align: right;\n",
       "    }\n",
       "</style>\n",
       "<table border=\"1\" class=\"dataframe\">\n",
       "  <thead>\n",
       "    <tr style=\"text-align: right;\">\n",
       "      <th></th>\n",
       "      <th>Code</th>\n",
       "      <th>COUNTRY</th>\n",
       "      <th>POP</th>\n",
       "      <th>AREA</th>\n",
       "      <th>GDP</th>\n",
       "      <th>CONT</th>\n",
       "      <th>IND_DAY</th>\n",
       "    </tr>\n",
       "  </thead>\n",
       "  <tbody>\n",
       "    <tr>\n",
       "      <th>1</th>\n",
       "      <td>IND</td>\n",
       "      <td>India</td>\n",
       "      <td>1351.16</td>\n",
       "      <td>3287.26</td>\n",
       "      <td>2575.67</td>\n",
       "      <td>Asia</td>\n",
       "      <td>15-08-1947</td>\n",
       "    </tr>\n",
       "    <tr>\n",
       "      <th>2</th>\n",
       "      <td>USA</td>\n",
       "      <td>US</td>\n",
       "      <td>329.74</td>\n",
       "      <td>9833.52</td>\n",
       "      <td>19485.39</td>\n",
       "      <td>N.America</td>\n",
       "      <td>1776-07-04</td>\n",
       "    </tr>\n",
       "    <tr>\n",
       "      <th>3</th>\n",
       "      <td>IDN</td>\n",
       "      <td>Indonesia</td>\n",
       "      <td>268.07</td>\n",
       "      <td>1910.93</td>\n",
       "      <td>1015.54</td>\n",
       "      <td>Asia</td>\n",
       "      <td>17-08-1945</td>\n",
       "    </tr>\n",
       "    <tr>\n",
       "      <th>4</th>\n",
       "      <td>BRA</td>\n",
       "      <td>Brazil</td>\n",
       "      <td>210.32</td>\n",
       "      <td>8515.77</td>\n",
       "      <td>2055.51</td>\n",
       "      <td>S.America</td>\n",
       "      <td>1822-09-07</td>\n",
       "    </tr>\n",
       "    <tr>\n",
       "      <th>5</th>\n",
       "      <td>PAK</td>\n",
       "      <td>Pakistan</td>\n",
       "      <td>205.71</td>\n",
       "      <td>881.91</td>\n",
       "      <td>302.14</td>\n",
       "      <td>Asia</td>\n",
       "      <td>14-08-1947</td>\n",
       "    </tr>\n",
       "    <tr>\n",
       "      <th>6</th>\n",
       "      <td>NGA</td>\n",
       "      <td>Nigeria</td>\n",
       "      <td>200.96</td>\n",
       "      <td>923.77</td>\n",
       "      <td>375.77</td>\n",
       "      <td>Africa</td>\n",
       "      <td>01-10-1960</td>\n",
       "    </tr>\n",
       "    <tr>\n",
       "      <th>7</th>\n",
       "      <td>BGD</td>\n",
       "      <td>Bangladesh</td>\n",
       "      <td>167.09</td>\n",
       "      <td>147.57</td>\n",
       "      <td>245.63</td>\n",
       "      <td>Asia</td>\n",
       "      <td>26-03-1971</td>\n",
       "    </tr>\n",
       "    <tr>\n",
       "      <th>9</th>\n",
       "      <td>MEX</td>\n",
       "      <td>Mexico</td>\n",
       "      <td>126.58</td>\n",
       "      <td>1964.38</td>\n",
       "      <td>1158.23</td>\n",
       "      <td>N.America</td>\n",
       "      <td>1810-09-16</td>\n",
       "    </tr>\n",
       "    <tr>\n",
       "      <th>12</th>\n",
       "      <td>FRA</td>\n",
       "      <td>France</td>\n",
       "      <td>67.02</td>\n",
       "      <td>640.68</td>\n",
       "      <td>2582.49</td>\n",
       "      <td>Europe</td>\n",
       "      <td>1789-07-14</td>\n",
       "    </tr>\n",
       "    <tr>\n",
       "      <th>15</th>\n",
       "      <td>ARG</td>\n",
       "      <td>Argentina</td>\n",
       "      <td>44.94</td>\n",
       "      <td>2780.40</td>\n",
       "      <td>637.49</td>\n",
       "      <td>S.America</td>\n",
       "      <td>1816-07-09</td>\n",
       "    </tr>\n",
       "    <tr>\n",
       "      <th>16</th>\n",
       "      <td>DZA</td>\n",
       "      <td>Algeria</td>\n",
       "      <td>43.38</td>\n",
       "      <td>2381.74</td>\n",
       "      <td>167.56</td>\n",
       "      <td>Africa</td>\n",
       "      <td>05-07-1962</td>\n",
       "    </tr>\n",
       "    <tr>\n",
       "      <th>17</th>\n",
       "      <td>CAN</td>\n",
       "      <td>Canada</td>\n",
       "      <td>37.59</td>\n",
       "      <td>9984.67</td>\n",
       "      <td>1647.12</td>\n",
       "      <td>N.America</td>\n",
       "      <td>1867-07-01</td>\n",
       "    </tr>\n",
       "    <tr>\n",
       "      <th>19</th>\n",
       "      <td>KAZ</td>\n",
       "      <td>Kazakhstan</td>\n",
       "      <td>18.53</td>\n",
       "      <td>2724.90</td>\n",
       "      <td>159.41</td>\n",
       "      <td>Asia</td>\n",
       "      <td>16-12-1991</td>\n",
       "    </tr>\n",
       "  </tbody>\n",
       "</table>\n",
       "</div>"
      ],
      "text/plain": [
       "   Code     COUNTRY      POP     AREA       GDP       CONT     IND_DAY\n",
       "1   IND       India  1351.16  3287.26   2575.67       Asia  15-08-1947\n",
       "2   USA          US   329.74  9833.52  19485.39  N.America  1776-07-04\n",
       "3   IDN   Indonesia   268.07  1910.93   1015.54       Asia  17-08-1945\n",
       "4   BRA      Brazil   210.32  8515.77   2055.51  S.America  1822-09-07\n",
       "5   PAK    Pakistan   205.71   881.91    302.14       Asia  14-08-1947\n",
       "6   NGA     Nigeria   200.96   923.77    375.77     Africa  01-10-1960\n",
       "7   BGD  Bangladesh   167.09   147.57    245.63       Asia  26-03-1971\n",
       "9   MEX      Mexico   126.58  1964.38   1158.23  N.America  1810-09-16\n",
       "12  FRA      France    67.02   640.68   2582.49     Europe  1789-07-14\n",
       "15  ARG   Argentina    44.94  2780.40    637.49  S.America  1816-07-09\n",
       "16  DZA     Algeria    43.38  2381.74    167.56     Africa  05-07-1962\n",
       "17  CAN      Canada    37.59  9984.67   1647.12  N.America  1867-07-01\n",
       "19  KAZ  Kazakhstan    18.53  2724.90    159.41       Asia  16-12-1991"
      ]
     },
     "execution_count": 80,
     "metadata": {},
     "output_type": "execute_result"
    }
   ],
   "source": [
    "data.dropna()"
   ]
  },
  {
   "cell_type": "code",
   "execution_count": 1,
   "metadata": {},
   "outputs": [],
   "source": [
    "import xlrd\n"
   ]
  },
  {
   "cell_type": "code",
   "execution_count": 2,
   "metadata": {},
   "outputs": [],
   "source": [
    "book=xlrd.open_workbook('D:\\GL\\Dec28\\sample.xlsx')\n"
   ]
  },
  {
   "cell_type": "code",
   "execution_count": 3,
   "metadata": {
    "collapsed": true,
    "jupyter": {
     "outputs_hidden": true,
     "source_hidden": true
    }
   },
   "outputs": [
    {
     "data": {
      "text/plain": [
       "<xlrd.book.Book at 0x1cf394d9e08>"
      ]
     },
     "execution_count": 3,
     "metadata": {},
     "output_type": "execute_result"
    }
   ],
   "source": [
    "book"
   ]
  },
  {
   "cell_type": "code",
   "execution_count": 4,
   "metadata": {
    "jupyter": {
     "source_hidden": true
    }
   },
   "outputs": [],
   "source": [
    "n=book.nsheets\n"
   ]
  },
  {
   "cell_type": "code",
   "execution_count": 5,
   "metadata": {
    "collapsed": true,
    "jupyter": {
     "outputs_hidden": true,
     "source_hidden": true
    }
   },
   "outputs": [
    {
     "data": {
      "text/plain": [
       "2"
      ]
     },
     "execution_count": 5,
     "metadata": {},
     "output_type": "execute_result"
    }
   ],
   "source": [
    "n\n"
   ]
  },
  {
   "cell_type": "code",
   "execution_count": 6,
   "metadata": {
    "collapsed": true,
    "jupyter": {
     "outputs_hidden": true,
     "source_hidden": true
    }
   },
   "outputs": [
    {
     "data": {
      "text/plain": [
       "['Book1', 'Book2']"
      ]
     },
     "execution_count": 6,
     "metadata": {},
     "output_type": "execute_result"
    }
   ],
   "source": [
    "book.sheet_names()\n"
   ]
  },
  {
   "cell_type": "code",
   "execution_count": 7,
   "metadata": {
    "jupyter": {
     "source_hidden": true
    }
   },
   "outputs": [],
   "source": [
    "last_sheet=book.sheet_by_index(n-1)\n"
   ]
  },
  {
   "cell_type": "code",
   "execution_count": 8,
   "metadata": {
    "collapsed": true,
    "jupyter": {
     "outputs_hidden": true,
     "source_hidden": true
    }
   },
   "outputs": [
    {
     "data": {
      "text/plain": [
       "<xlrd.sheet.Sheet at 0x1cf395409c8>"
      ]
     },
     "execution_count": 8,
     "metadata": {},
     "output_type": "execute_result"
    }
   ],
   "source": [
    "last_sheet"
   ]
  },
  {
   "cell_type": "code",
   "execution_count": 13,
   "metadata": {
    "collapsed": true,
    "jupyter": {
     "outputs_hidden": true,
     "source_hidden": true
    }
   },
   "outputs": [
    {
     "data": {
      "text/plain": [
       "['Age', 'Height', 'Weight']"
      ]
     },
     "execution_count": 13,
     "metadata": {},
     "output_type": "execute_result"
    }
   ],
   "source": [
    "last_sheet.row_values(0)\n"
   ]
  },
  {
   "cell_type": "code",
   "execution_count": 14,
   "metadata": {
    "collapsed": true,
    "jupyter": {
     "outputs_hidden": true,
     "source_hidden": true
    }
   },
   "outputs": [
    {
     "data": {
      "text/plain": [
       "text:'Age'"
      ]
     },
     "execution_count": 14,
     "metadata": {},
     "output_type": "execute_result"
    }
   ],
   "source": [
    "last_sheet.cell(0,0)\n"
   ]
  },
  {
   "cell_type": "code",
   "execution_count": 16,
   "metadata": {
    "collapsed": true,
    "jupyter": {
     "outputs_hidden": true
    }
   },
   "outputs": [
    {
     "data": {
      "text/plain": [
       "[number:225.0, number:120.0]"
      ]
     },
     "execution_count": 16,
     "metadata": {},
     "output_type": "execute_result"
    }
   ],
   "source": [
    "last_sheet.row_slice(rowx=2,start_colx=1,end_colx=5)\n"
   ]
  },
  {
   "cell_type": "code",
   "execution_count": 19,
   "metadata": {},
   "outputs": [],
   "source": [
    "import pandas as pd\n",
    "medal_data=pd.read_csv('http://winterolympicsmedals.com/medals.csv')\n"
   ]
  },
  {
   "cell_type": "code",
   "execution_count": 20,
   "metadata": {
    "collapsed": true,
    "jupyter": {
     "outputs_hidden": true,
     "source_hidden": true
    }
   },
   "outputs": [
    {
     "data": {
      "text/html": [
       "<div>\n",
       "<style scoped>\n",
       "    .dataframe tbody tr th:only-of-type {\n",
       "        vertical-align: middle;\n",
       "    }\n",
       "\n",
       "    .dataframe tbody tr th {\n",
       "        vertical-align: top;\n",
       "    }\n",
       "\n",
       "    .dataframe thead th {\n",
       "        text-align: right;\n",
       "    }\n",
       "</style>\n",
       "<table border=\"1\" class=\"dataframe\">\n",
       "  <thead>\n",
       "    <tr style=\"text-align: right;\">\n",
       "      <th></th>\n",
       "      <th>Year</th>\n",
       "      <th>City</th>\n",
       "      <th>Sport</th>\n",
       "      <th>Discipline</th>\n",
       "      <th>NOC</th>\n",
       "      <th>Event</th>\n",
       "      <th>Event gender</th>\n",
       "      <th>Medal</th>\n",
       "    </tr>\n",
       "  </thead>\n",
       "  <tbody>\n",
       "    <tr>\n",
       "      <th>0</th>\n",
       "      <td>1924</td>\n",
       "      <td>Chamonix</td>\n",
       "      <td>Skating</td>\n",
       "      <td>Figure skating</td>\n",
       "      <td>AUT</td>\n",
       "      <td>individual</td>\n",
       "      <td>M</td>\n",
       "      <td>Silver</td>\n",
       "    </tr>\n",
       "    <tr>\n",
       "      <th>1</th>\n",
       "      <td>1924</td>\n",
       "      <td>Chamonix</td>\n",
       "      <td>Skating</td>\n",
       "      <td>Figure skating</td>\n",
       "      <td>AUT</td>\n",
       "      <td>individual</td>\n",
       "      <td>W</td>\n",
       "      <td>Gold</td>\n",
       "    </tr>\n",
       "    <tr>\n",
       "      <th>2</th>\n",
       "      <td>1924</td>\n",
       "      <td>Chamonix</td>\n",
       "      <td>Skating</td>\n",
       "      <td>Figure skating</td>\n",
       "      <td>AUT</td>\n",
       "      <td>pairs</td>\n",
       "      <td>X</td>\n",
       "      <td>Gold</td>\n",
       "    </tr>\n",
       "    <tr>\n",
       "      <th>3</th>\n",
       "      <td>1924</td>\n",
       "      <td>Chamonix</td>\n",
       "      <td>Bobsleigh</td>\n",
       "      <td>Bobsleigh</td>\n",
       "      <td>BEL</td>\n",
       "      <td>four-man</td>\n",
       "      <td>M</td>\n",
       "      <td>Bronze</td>\n",
       "    </tr>\n",
       "    <tr>\n",
       "      <th>4</th>\n",
       "      <td>1924</td>\n",
       "      <td>Chamonix</td>\n",
       "      <td>Ice Hockey</td>\n",
       "      <td>Ice Hockey</td>\n",
       "      <td>CAN</td>\n",
       "      <td>ice hockey</td>\n",
       "      <td>M</td>\n",
       "      <td>Gold</td>\n",
       "    </tr>\n",
       "    <tr>\n",
       "      <th>...</th>\n",
       "      <td>...</td>\n",
       "      <td>...</td>\n",
       "      <td>...</td>\n",
       "      <td>...</td>\n",
       "      <td>...</td>\n",
       "      <td>...</td>\n",
       "      <td>...</td>\n",
       "      <td>...</td>\n",
       "    </tr>\n",
       "    <tr>\n",
       "      <th>2306</th>\n",
       "      <td>2006</td>\n",
       "      <td>Turin</td>\n",
       "      <td>Skiing</td>\n",
       "      <td>Snowboard</td>\n",
       "      <td>USA</td>\n",
       "      <td>Half-pipe</td>\n",
       "      <td>M</td>\n",
       "      <td>Silver</td>\n",
       "    </tr>\n",
       "    <tr>\n",
       "      <th>2307</th>\n",
       "      <td>2006</td>\n",
       "      <td>Turin</td>\n",
       "      <td>Skiing</td>\n",
       "      <td>Snowboard</td>\n",
       "      <td>USA</td>\n",
       "      <td>Half-pipe</td>\n",
       "      <td>W</td>\n",
       "      <td>Gold</td>\n",
       "    </tr>\n",
       "    <tr>\n",
       "      <th>2308</th>\n",
       "      <td>2006</td>\n",
       "      <td>Turin</td>\n",
       "      <td>Skiing</td>\n",
       "      <td>Snowboard</td>\n",
       "      <td>USA</td>\n",
       "      <td>Half-pipe</td>\n",
       "      <td>W</td>\n",
       "      <td>Silver</td>\n",
       "    </tr>\n",
       "    <tr>\n",
       "      <th>2309</th>\n",
       "      <td>2006</td>\n",
       "      <td>Turin</td>\n",
       "      <td>Skiing</td>\n",
       "      <td>Snowboard</td>\n",
       "      <td>USA</td>\n",
       "      <td>Snowboard Cross</td>\n",
       "      <td>M</td>\n",
       "      <td>Gold</td>\n",
       "    </tr>\n",
       "    <tr>\n",
       "      <th>2310</th>\n",
       "      <td>2006</td>\n",
       "      <td>Turin</td>\n",
       "      <td>Skiing</td>\n",
       "      <td>Snowboard</td>\n",
       "      <td>USA</td>\n",
       "      <td>Snowboard Cross</td>\n",
       "      <td>W</td>\n",
       "      <td>Silver</td>\n",
       "    </tr>\n",
       "  </tbody>\n",
       "</table>\n",
       "<p>2311 rows × 8 columns</p>\n",
       "</div>"
      ],
      "text/plain": [
       "      Year      City       Sport      Discipline  NOC            Event  \\\n",
       "0     1924  Chamonix     Skating  Figure skating  AUT       individual   \n",
       "1     1924  Chamonix     Skating  Figure skating  AUT       individual   \n",
       "2     1924  Chamonix     Skating  Figure skating  AUT            pairs   \n",
       "3     1924  Chamonix   Bobsleigh       Bobsleigh  BEL         four-man   \n",
       "4     1924  Chamonix  Ice Hockey      Ice Hockey  CAN       ice hockey   \n",
       "...    ...       ...         ...             ...  ...              ...   \n",
       "2306  2006     Turin      Skiing       Snowboard  USA        Half-pipe   \n",
       "2307  2006     Turin      Skiing       Snowboard  USA        Half-pipe   \n",
       "2308  2006     Turin      Skiing       Snowboard  USA        Half-pipe   \n",
       "2309  2006     Turin      Skiing       Snowboard  USA  Snowboard Cross   \n",
       "2310  2006     Turin      Skiing       Snowboard  USA  Snowboard Cross   \n",
       "\n",
       "     Event gender   Medal  \n",
       "0               M  Silver  \n",
       "1               W    Gold  \n",
       "2               X    Gold  \n",
       "3               M  Bronze  \n",
       "4               M    Gold  \n",
       "...           ...     ...  \n",
       "2306            M  Silver  \n",
       "2307            W    Gold  \n",
       "2308            W  Silver  \n",
       "2309            M    Gold  \n",
       "2310            W  Silver  \n",
       "\n",
       "[2311 rows x 8 columns]"
      ]
     },
     "execution_count": 20,
     "metadata": {},
     "output_type": "execute_result"
    }
   ],
   "source": [
    "medal_data"
   ]
  },
  {
   "cell_type": "code",
   "execution_count": 26,
   "metadata": {
    "collapsed": true,
    "jupyter": {
     "outputs_hidden": true,
     "source_hidden": true
    }
   },
   "outputs": [
    {
     "name": "stdout",
     "output_type": "stream",
     "text": [
      "Collecting urllib\n"
     ]
    },
    {
     "name": "stderr",
     "output_type": "stream",
     "text": [
      "  ERROR: Could not find a version that satisfies the requirement urllib (from versions: none)\n",
      "ERROR: No matching distribution found for urllib\n"
     ]
    }
   ],
   "source": [
    "!pip install urllib\n",
    "import csv\n",
    "import urllib.request as urllib2\n",
    "\n"
   ]
  },
  {
   "cell_type": "code",
   "execution_count": 27,
   "metadata": {
    "collapsed": true,
    "jupyter": {
     "outputs_hidden": true,
     "source_hidden": true
    }
   },
   "outputs": [
    {
     "name": "stdout",
     "output_type": "stream",
     "text": [
      "Requirement already satisfied: requests in c:\\users\\ramanan\\anaconda3\\lib\\site-packages (2.25.1)\n",
      "Requirement already satisfied: certifi>=2017.4.17 in c:\\users\\ramanan\\anaconda3\\lib\\site-packages (from requests) (2019.9.11)\n",
      "Requirement already satisfied: urllib3<1.27,>=1.21.1 in c:\\users\\ramanan\\anaconda3\\lib\\site-packages (from requests) (1.26.5)\n",
      "Requirement already satisfied: idna<3,>=2.5 in c:\\users\\ramanan\\anaconda3\\lib\\site-packages (from requests) (2.8)\n",
      "Requirement already satisfied: chardet<5,>=3.0.2 in c:\\users\\ramanan\\anaconda3\\lib\\site-packages (from requests) (3.0.4)\n",
      "Note: you may need to restart the kernel to use updated packages.\n"
     ]
    }
   ],
   "source": [
    "pip install requests"
   ]
  },
  {
   "cell_type": "code",
   "execution_count": 28,
   "metadata": {
    "jupyter": {
     "source_hidden": true
    }
   },
   "outputs": [],
   "source": [
    "import urllib.request as urllib2"
   ]
  },
  {
   "cell_type": "code",
   "execution_count": 29,
   "metadata": {
    "collapsed": true,
    "jupyter": {
     "outputs_hidden": true,
     "source_hidden": true
    }
   },
   "outputs": [
    {
     "ename": "Error",
     "evalue": "iterator should return strings, not bytes (did you open the file in text mode?)",
     "output_type": "error",
     "traceback": [
      "\u001b[1;31m---------------------------------------------------------------------------\u001b[0m",
      "\u001b[1;31mError\u001b[0m                                     Traceback (most recent call last)",
      "\u001b[1;32m<ipython-input-29-2fdbc28a9f7f>\u001b[0m in \u001b[0;36m<module>\u001b[1;34m\u001b[0m\n\u001b[0;32m      3\u001b[0m \u001b[0mcr\u001b[0m \u001b[1;33m=\u001b[0m \u001b[0mcsv\u001b[0m\u001b[1;33m.\u001b[0m\u001b[0mreader\u001b[0m\u001b[1;33m(\u001b[0m\u001b[0mresponse\u001b[0m\u001b[1;33m)\u001b[0m\u001b[1;33m\u001b[0m\u001b[1;33m\u001b[0m\u001b[0m\n\u001b[0;32m      4\u001b[0m \u001b[1;33m\u001b[0m\u001b[0m\n\u001b[1;32m----> 5\u001b[1;33m \u001b[1;32mfor\u001b[0m \u001b[0mrow\u001b[0m \u001b[1;32min\u001b[0m \u001b[0mcr\u001b[0m\u001b[1;33m:\u001b[0m\u001b[1;33m\u001b[0m\u001b[1;33m\u001b[0m\u001b[0m\n\u001b[0m\u001b[0;32m      6\u001b[0m     \u001b[0mprint\u001b[0m\u001b[1;33m(\u001b[0m\u001b[0mrow\u001b[0m\u001b[1;33m)\u001b[0m\u001b[1;33m\u001b[0m\u001b[1;33m\u001b[0m\u001b[0m\n",
      "\u001b[1;31mError\u001b[0m: iterator should return strings, not bytes (did you open the file in text mode?)"
     ]
    }
   ],
   "source": [
    "url = 'http://winterolympicsmedals.com/medals.csv'\n",
    "response = urllib2.urlopen(url)\n",
    "cr = csv.reader(response)\n",
    "\n",
    "for row in cr:\n",
    "    print(row)"
   ]
  },
  {
   "cell_type": "code",
   "execution_count": 32,
   "metadata": {
    "collapsed": true,
    "jupyter": {
     "outputs_hidden": true,
     "source_hidden": true
    }
   },
   "outputs": [
    {
     "ename": "Error",
     "evalue": "iterator should return strings, not bytes (did you open the file in text mode?)",
     "output_type": "error",
     "traceback": [
      "\u001b[1;31m---------------------------------------------------------------------------\u001b[0m",
      "\u001b[1;31mError\u001b[0m                                     Traceback (most recent call last)",
      "\u001b[1;32m<ipython-input-32-fa77dd9c7934>\u001b[0m in \u001b[0;36m<module>\u001b[1;34m\u001b[0m\n\u001b[0;32m      6\u001b[0m \u001b[0mcr\u001b[0m\u001b[1;33m=\u001b[0m\u001b[0mcsv\u001b[0m\u001b[1;33m.\u001b[0m\u001b[0mreader\u001b[0m\u001b[1;33m(\u001b[0m\u001b[0mresponse\u001b[0m\u001b[1;33m)\u001b[0m\u001b[1;33m\u001b[0m\u001b[1;33m\u001b[0m\u001b[0m\n\u001b[0;32m      7\u001b[0m \u001b[1;33m\u001b[0m\u001b[0m\n\u001b[1;32m----> 8\u001b[1;33m \u001b[1;32mfor\u001b[0m \u001b[0mrows\u001b[0m \u001b[1;32min\u001b[0m \u001b[0mcr\u001b[0m\u001b[1;33m:\u001b[0m\u001b[1;33m\u001b[0m\u001b[1;33m\u001b[0m\u001b[0m\n\u001b[0m\u001b[0;32m      9\u001b[0m       \u001b[0mprint\u001b[0m\u001b[1;33m(\u001b[0m\u001b[0mrows\u001b[0m\u001b[1;33m)\u001b[0m\u001b[1;33m\u001b[0m\u001b[1;33m\u001b[0m\u001b[0m\n",
      "\u001b[1;31mError\u001b[0m: iterator should return strings, not bytes (did you open the file in text mode?)"
     ]
    }
   ],
   "source": [
    "import csv\n",
    "import urllib.request as urllib2\n",
    "\n",
    "url=\"http://archive.ics.uci.edu/ml/machine-learning-databases/iris/iris.data\"\n",
    "response=urllib2.urlopen(url)\n",
    "cr=csv.reader(response)\n",
    "\n",
    "for rows in cr:\n",
    "      print(rows)\n"
   ]
  }
 ],
 "metadata": {
  "kernelspec": {
   "display_name": "Python 3",
   "language": "python",
   "name": "python3"
  },
  "language_info": {
   "codemirror_mode": {
    "name": "ipython",
    "version": 3
   },
   "file_extension": ".py",
   "mimetype": "text/x-python",
   "name": "python",
   "nbconvert_exporter": "python",
   "pygments_lexer": "ipython3",
   "version": "3.7.4"
  }
 },
 "nbformat": 4,
 "nbformat_minor": 4
}
