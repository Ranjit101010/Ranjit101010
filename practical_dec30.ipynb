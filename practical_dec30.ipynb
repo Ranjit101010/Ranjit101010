{
 "cells": [
  {
   "cell_type": "code",
   "execution_count": null,
   "metadata": {},
   "outputs": [],
   "source": [
    "#Write the code snippet given below in your notebook\n",
    "#H0: The mean of espresso in latte is not different from population #Mean and is = 4 oz.\n",
    "#Ha: The mean of espresso in latte is significantly different from #population Mean and is not= 4 oz. \n",
    "#import numpy as np"
   ]
  },
  {
   "cell_type": "code",
   "execution_count": 37,
   "metadata": {},
   "outputs": [
    {
     "name": "stdout",
     "output_type": "stream",
     "text": [
      "Degree Of Freedom is :  24\n"
     ]
    }
   ],
   "source": [
    "samplemeen = 4.6 \n",
    "populationmeen = 4\n",
    "samplesize = 25\n",
    "degreeoffreedom = 25-1 \n",
    "standarddeviation = 0.22\n",
    "print('Degree Of Freedom is : ', degreeoffreedom)"
   ]
  },
  {
   "cell_type": "code",
   "execution_count": 2,
   "metadata": {},
   "outputs": [],
   "source": [
    "import scipy.stats as stats"
   ]
  },
  {
   "cell_type": "code",
   "execution_count": 38,
   "metadata": {},
   "outputs": [],
   "source": [
    "Ttest = 13.6\n"
   ]
  },
  {
   "cell_type": "code",
   "execution_count": 22,
   "metadata": {},
   "outputs": [],
   "source": [
    "p = stats.t.cdf(Ttest, df = 24)"
   ]
  },
  {
   "cell_type": "code",
   "execution_count": 23,
   "metadata": {},
   "outputs": [
    {
     "data": {
      "text/plain": [
       "0.9999999999995508"
      ]
     },
     "execution_count": 23,
     "metadata": {},
     "output_type": "execute_result"
    }
   ],
   "source": [
    "p"
   ]
  },
  {
   "cell_type": "code",
   "execution_count": 34,
   "metadata": {},
   "outputs": [],
   "source": [
    "import numpy as np\n",
    "pvalue = stats.t.sf(np.abs(Ttest), 24)*2"
   ]
  },
  {
   "cell_type": "code",
   "execution_count": 35,
   "metadata": {},
   "outputs": [
    {
     "data": {
      "text/plain": [
       "8.983349489982079e-13"
      ]
     },
     "execution_count": 35,
     "metadata": {},
     "output_type": "execute_result"
    }
   ],
   "source": [
    "pvalue"
   ]
  },
  {
   "cell_type": "code",
   "execution_count": 28,
   "metadata": {},
   "outputs": [
    {
     "name": "stdout",
     "output_type": "stream",
     "text": [
      "p is: 0.9999999999995508\n",
      "pvalue is: 8.983349489982079e-13\n"
     ]
    }
   ],
   "source": [
    "print(\"p is:\", p)\n",
    "print(\"pvalue is:\", pvalue)"
   ]
  },
  {
   "cell_type": "code",
   "execution_count": 29,
   "metadata": {
    "jupyter": {
     "source_hidden": true
    }
   },
   "outputs": [],
   "source": [
    "#Since We are doing two sided test to find the final p-value \n",
    "pval = (1 - p)*2"
   ]
  },
  {
   "cell_type": "code",
   "execution_count": 39,
   "metadata": {},
   "outputs": [
    {
     "name": "stdout",
     "output_type": "stream",
     "text": [
      "The mean of espresso in latte is significantly different from population Mean (Reject H0) \n"
     ]
    }
   ],
   "source": [
    "if pvalue > 0.05:\n",
    " print('The mean of espresso in latte is not different from population Mean (Fail To Reject H0)')\n",
    "else:\n",
    " print('The mean of espresso in latte is significantly different from population Mean (Reject H0) ')"
   ]
  }
 ],
 "metadata": {
  "kernelspec": {
   "display_name": "Python 3",
   "language": "python",
   "name": "python3"
  },
  "language_info": {
   "codemirror_mode": {
    "name": "ipython",
    "version": 3
   },
   "file_extension": ".py",
   "mimetype": "text/x-python",
   "name": "python",
   "nbconvert_exporter": "python",
   "pygments_lexer": "ipython3",
   "version": "3.7.4"
  }
 },
 "nbformat": 4,
 "nbformat_minor": 4
}
